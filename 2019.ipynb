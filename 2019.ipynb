{
  "nbformat": 4,
  "nbformat_minor": 0,
  "metadata": {
    "colab": {
      "provenance": [],
      "authorship_tag": "ABX9TyP/tNCWPvn9Evl4m/Cqnc98",
      "include_colab_link": true
    },
    "kernelspec": {
      "name": "python3",
      "display_name": "Python 3"
    },
    "language_info": {
      "name": "python"
    }
  },
  "cells": [
    {
      "cell_type": "markdown",
      "metadata": {
        "id": "view-in-github",
        "colab_type": "text"
      },
      "source": [
        "<a href=\"https://colab.research.google.com/github/Hengameh1392/renewable-energy/blob/main/2019.ipynb\" target=\"_parent\"><img src=\"https://colab.research.google.com/assets/colab-badge.svg\" alt=\"Open In Colab\"/></a>"
      ]
    },
    {
      "cell_type": "code",
      "execution_count": 90,
      "metadata": {
        "id": "-x-ee9KAmQr-"
      },
      "outputs": [],
      "source": [
        "import pandas as pd"
      ]
    },
    {
      "cell_type": "code",
      "source": [
        "df = pd.read_csv('/content/drive/MyDrive/Renewable Data/ProductionAndCurtailmentsData_2018-2.csv')"
      ],
      "metadata": {
        "id": "EEu62pU3Ko5i"
      },
      "execution_count": 123,
      "outputs": []
    },
    {
      "cell_type": "code",
      "source": [
        "df.head(5)"
      ],
      "metadata": {
        "colab": {
          "base_uri": "https://localhost:8080/",
          "height": 206
        },
        "id": "qD3KKnfEFZ4y",
        "outputId": "98ef89d3-9167-4c8d-8da2-d0a256e66d09"
      },
      "execution_count": 124,
      "outputs": [
        {
          "output_type": "execute_result",
          "data": {
            "text/plain": [
              "            Date  Hour  Interval      Load  Solar    Wind  Net Load  \\\n",
              "0  1/1/2018 0:00   1.0       1.0  21552.67    0.0  243.50  21309.18   \n",
              "1  1/1/2018 0:05   1.0       2.0  21486.78    0.0  238.50  21248.28   \n",
              "2  1/1/2018 0:10   1.0       3.0  21391.30    0.0  227.23  21164.07   \n",
              "3  1/1/2018 0:15   1.0       4.0  21301.87    0.0  228.03  21073.85   \n",
              "4  1/1/2018 0:20   1.0       5.0  21242.27    0.0  232.21  21010.06   \n",
              "\n",
              "  Renewables  Nuclear Large Hydro  Imports  Generation  Thermal  \\\n",
              "0    2032.99  2259.99       2,098  7586.55    13964.46  7573.07   \n",
              "1    2026.48  2259.95       2,144  7543.25    13944.80  7514.81   \n",
              "2    2014.53  2259.81       2,130  7666.71    13727.43  7322.87   \n",
              "3    2016.26  2259.80       2,093  7701.71    13598.82  7229.37   \n",
              "4    2024.28  2260.01       2,161  7677.75    13560.24  7115.31   \n",
              "\n",
              "   Load Less (Generation+Imports)  \n",
              "0                            1.65  \n",
              "1                           -1.27  \n",
              "2                           -2.84  \n",
              "3                            1.35  \n",
              "4                            4.28  "
            ],
            "text/html": [
              "\n",
              "  <div id=\"df-98dcaf45-c30a-4147-a8cc-23f42a2b91c3\">\n",
              "    <div class=\"colab-df-container\">\n",
              "      <div>\n",
              "<style scoped>\n",
              "    .dataframe tbody tr th:only-of-type {\n",
              "        vertical-align: middle;\n",
              "    }\n",
              "\n",
              "    .dataframe tbody tr th {\n",
              "        vertical-align: top;\n",
              "    }\n",
              "\n",
              "    .dataframe thead th {\n",
              "        text-align: right;\n",
              "    }\n",
              "</style>\n",
              "<table border=\"1\" class=\"dataframe\">\n",
              "  <thead>\n",
              "    <tr style=\"text-align: right;\">\n",
              "      <th></th>\n",
              "      <th>Date</th>\n",
              "      <th>Hour</th>\n",
              "      <th>Interval</th>\n",
              "      <th>Load</th>\n",
              "      <th>Solar</th>\n",
              "      <th>Wind</th>\n",
              "      <th>Net Load</th>\n",
              "      <th>Renewables</th>\n",
              "      <th>Nuclear</th>\n",
              "      <th>Large Hydro</th>\n",
              "      <th>Imports</th>\n",
              "      <th>Generation</th>\n",
              "      <th>Thermal</th>\n",
              "      <th>Load Less (Generation+Imports)</th>\n",
              "    </tr>\n",
              "  </thead>\n",
              "  <tbody>\n",
              "    <tr>\n",
              "      <th>0</th>\n",
              "      <td>1/1/2018 0:00</td>\n",
              "      <td>1.0</td>\n",
              "      <td>1.0</td>\n",
              "      <td>21552.67</td>\n",
              "      <td>0.0</td>\n",
              "      <td>243.50</td>\n",
              "      <td>21309.18</td>\n",
              "      <td>2032.99</td>\n",
              "      <td>2259.99</td>\n",
              "      <td>2,098</td>\n",
              "      <td>7586.55</td>\n",
              "      <td>13964.46</td>\n",
              "      <td>7573.07</td>\n",
              "      <td>1.65</td>\n",
              "    </tr>\n",
              "    <tr>\n",
              "      <th>1</th>\n",
              "      <td>1/1/2018 0:05</td>\n",
              "      <td>1.0</td>\n",
              "      <td>2.0</td>\n",
              "      <td>21486.78</td>\n",
              "      <td>0.0</td>\n",
              "      <td>238.50</td>\n",
              "      <td>21248.28</td>\n",
              "      <td>2026.48</td>\n",
              "      <td>2259.95</td>\n",
              "      <td>2,144</td>\n",
              "      <td>7543.25</td>\n",
              "      <td>13944.80</td>\n",
              "      <td>7514.81</td>\n",
              "      <td>-1.27</td>\n",
              "    </tr>\n",
              "    <tr>\n",
              "      <th>2</th>\n",
              "      <td>1/1/2018 0:10</td>\n",
              "      <td>1.0</td>\n",
              "      <td>3.0</td>\n",
              "      <td>21391.30</td>\n",
              "      <td>0.0</td>\n",
              "      <td>227.23</td>\n",
              "      <td>21164.07</td>\n",
              "      <td>2014.53</td>\n",
              "      <td>2259.81</td>\n",
              "      <td>2,130</td>\n",
              "      <td>7666.71</td>\n",
              "      <td>13727.43</td>\n",
              "      <td>7322.87</td>\n",
              "      <td>-2.84</td>\n",
              "    </tr>\n",
              "    <tr>\n",
              "      <th>3</th>\n",
              "      <td>1/1/2018 0:15</td>\n",
              "      <td>1.0</td>\n",
              "      <td>4.0</td>\n",
              "      <td>21301.87</td>\n",
              "      <td>0.0</td>\n",
              "      <td>228.03</td>\n",
              "      <td>21073.85</td>\n",
              "      <td>2016.26</td>\n",
              "      <td>2259.80</td>\n",
              "      <td>2,093</td>\n",
              "      <td>7701.71</td>\n",
              "      <td>13598.82</td>\n",
              "      <td>7229.37</td>\n",
              "      <td>1.35</td>\n",
              "    </tr>\n",
              "    <tr>\n",
              "      <th>4</th>\n",
              "      <td>1/1/2018 0:20</td>\n",
              "      <td>1.0</td>\n",
              "      <td>5.0</td>\n",
              "      <td>21242.27</td>\n",
              "      <td>0.0</td>\n",
              "      <td>232.21</td>\n",
              "      <td>21010.06</td>\n",
              "      <td>2024.28</td>\n",
              "      <td>2260.01</td>\n",
              "      <td>2,161</td>\n",
              "      <td>7677.75</td>\n",
              "      <td>13560.24</td>\n",
              "      <td>7115.31</td>\n",
              "      <td>4.28</td>\n",
              "    </tr>\n",
              "  </tbody>\n",
              "</table>\n",
              "</div>\n",
              "      <button class=\"colab-df-convert\" onclick=\"convertToInteractive('df-98dcaf45-c30a-4147-a8cc-23f42a2b91c3')\"\n",
              "              title=\"Convert this dataframe to an interactive table.\"\n",
              "              style=\"display:none;\">\n",
              "        \n",
              "  <svg xmlns=\"http://www.w3.org/2000/svg\" height=\"24px\"viewBox=\"0 0 24 24\"\n",
              "       width=\"24px\">\n",
              "    <path d=\"M0 0h24v24H0V0z\" fill=\"none\"/>\n",
              "    <path d=\"M18.56 5.44l.94 2.06.94-2.06 2.06-.94-2.06-.94-.94-2.06-.94 2.06-2.06.94zm-11 1L8.5 8.5l.94-2.06 2.06-.94-2.06-.94L8.5 2.5l-.94 2.06-2.06.94zm10 10l.94 2.06.94-2.06 2.06-.94-2.06-.94-.94-2.06-.94 2.06-2.06.94z\"/><path d=\"M17.41 7.96l-1.37-1.37c-.4-.4-.92-.59-1.43-.59-.52 0-1.04.2-1.43.59L10.3 9.45l-7.72 7.72c-.78.78-.78 2.05 0 2.83L4 21.41c.39.39.9.59 1.41.59.51 0 1.02-.2 1.41-.59l7.78-7.78 2.81-2.81c.8-.78.8-2.07 0-2.86zM5.41 20L4 18.59l7.72-7.72 1.47 1.35L5.41 20z\"/>\n",
              "  </svg>\n",
              "      </button>\n",
              "      \n",
              "  <style>\n",
              "    .colab-df-container {\n",
              "      display:flex;\n",
              "      flex-wrap:wrap;\n",
              "      gap: 12px;\n",
              "    }\n",
              "\n",
              "    .colab-df-convert {\n",
              "      background-color: #E8F0FE;\n",
              "      border: none;\n",
              "      border-radius: 50%;\n",
              "      cursor: pointer;\n",
              "      display: none;\n",
              "      fill: #1967D2;\n",
              "      height: 32px;\n",
              "      padding: 0 0 0 0;\n",
              "      width: 32px;\n",
              "    }\n",
              "\n",
              "    .colab-df-convert:hover {\n",
              "      background-color: #E2EBFA;\n",
              "      box-shadow: 0px 1px 2px rgba(60, 64, 67, 0.3), 0px 1px 3px 1px rgba(60, 64, 67, 0.15);\n",
              "      fill: #174EA6;\n",
              "    }\n",
              "\n",
              "    [theme=dark] .colab-df-convert {\n",
              "      background-color: #3B4455;\n",
              "      fill: #D2E3FC;\n",
              "    }\n",
              "\n",
              "    [theme=dark] .colab-df-convert:hover {\n",
              "      background-color: #434B5C;\n",
              "      box-shadow: 0px 1px 3px 1px rgba(0, 0, 0, 0.15);\n",
              "      filter: drop-shadow(0px 1px 2px rgba(0, 0, 0, 0.3));\n",
              "      fill: #FFFFFF;\n",
              "    }\n",
              "  </style>\n",
              "\n",
              "      <script>\n",
              "        const buttonEl =\n",
              "          document.querySelector('#df-98dcaf45-c30a-4147-a8cc-23f42a2b91c3 button.colab-df-convert');\n",
              "        buttonEl.style.display =\n",
              "          google.colab.kernel.accessAllowed ? 'block' : 'none';\n",
              "\n",
              "        async function convertToInteractive(key) {\n",
              "          const element = document.querySelector('#df-98dcaf45-c30a-4147-a8cc-23f42a2b91c3');\n",
              "          const dataTable =\n",
              "            await google.colab.kernel.invokeFunction('convertToInteractive',\n",
              "                                                     [key], {});\n",
              "          if (!dataTable) return;\n",
              "\n",
              "          const docLinkHtml = 'Like what you see? Visit the ' +\n",
              "            '<a target=\"_blank\" href=https://colab.research.google.com/notebooks/data_table.ipynb>data table notebook</a>'\n",
              "            + ' to learn more about interactive tables.';\n",
              "          element.innerHTML = '';\n",
              "          dataTable['output_type'] = 'display_data';\n",
              "          await google.colab.output.renderOutput(dataTable, element);\n",
              "          const docLink = document.createElement('div');\n",
              "          docLink.innerHTML = docLinkHtml;\n",
              "          element.appendChild(docLink);\n",
              "        }\n",
              "      </script>\n",
              "    </div>\n",
              "  </div>\n",
              "  "
            ]
          },
          "metadata": {},
          "execution_count": 124
        }
      ]
    },
    {
      "cell_type": "code",
      "source": [
        "df.info()"
      ],
      "metadata": {
        "colab": {
          "base_uri": "https://localhost:8080/"
        },
        "id": "TU3HwixnC-hb",
        "outputId": "14e987a0-87da-4564-cb8c-449160409a33"
      },
      "execution_count": 125,
      "outputs": [
        {
          "output_type": "stream",
          "name": "stdout",
          "text": [
            "<class 'pandas.core.frame.DataFrame'>\n",
            "RangeIndex: 324576 entries, 0 to 324575\n",
            "Data columns (total 14 columns):\n",
            " #   Column                          Non-Null Count   Dtype  \n",
            "---  ------                          --------------   -----  \n",
            " 0   Date                            105120 non-null  object \n",
            " 1   Hour                            105120 non-null  float64\n",
            " 2   Interval                        105120 non-null  float64\n",
            " 3   Load                            105120 non-null  float64\n",
            " 4   Solar                           105120 non-null  float64\n",
            " 5   Wind                            105120 non-null  float64\n",
            " 6   Net Load                        105120 non-null  float64\n",
            " 7   Renewables                      105120 non-null  object \n",
            " 8   Nuclear                         105120 non-null  float64\n",
            " 9   Large Hydro                     105120 non-null  object \n",
            " 10  Imports                         105120 non-null  float64\n",
            " 11  Generation                      105120 non-null  float64\n",
            " 12  Thermal                         105120 non-null  object \n",
            " 13  Load Less (Generation+Imports)  105120 non-null  float64\n",
            "dtypes: float64(10), object(4)\n",
            "memory usage: 34.7+ MB\n"
          ]
        }
      ]
    },
    {
      "cell_type": "code",
      "source": [
        "#df['Solar'] = pd.to_numeric(df['Solar'], errors='coerce')"
      ],
      "metadata": {
        "id": "qfdwH3Iu27Sg"
      },
      "execution_count": 58,
      "outputs": []
    },
    {
      "cell_type": "code",
      "source": [
        "df['Renewables'] = pd.to_numeric(df['Renewables'], errors='coerce')"
      ],
      "metadata": {
        "id": "v2V-2NQi3MZb"
      },
      "execution_count": 126,
      "outputs": []
    },
    {
      "cell_type": "code",
      "source": [
        "#df['Load'] = pd.to_numeric(df['Load'], errors='coerce')"
      ],
      "metadata": {
        "id": "vvkDf1mR3ivz"
      },
      "execution_count": 62,
      "outputs": []
    },
    {
      "cell_type": "code",
      "source": [
        "#df['Renewables'] = pd.to_numeric(df['Renewables'], errors='coerce')"
      ],
      "metadata": {
        "id": "lZMGqdy43jPO"
      },
      "execution_count": 63,
      "outputs": []
    },
    {
      "cell_type": "code",
      "source": [
        "#df['Wind'] = pd.to_numeric(df['Wind'], errors='coerce')"
      ],
      "metadata": {
        "id": "iYBFvm3u3jd6"
      },
      "execution_count": 64,
      "outputs": []
    },
    {
      "cell_type": "code",
      "source": [
        "#df['Net Load'] = pd.to_numeric(df['Net Load'], errors='coerce')"
      ],
      "metadata": {
        "id": "qOMWxQbL3jsU"
      },
      "execution_count": 65,
      "outputs": []
    },
    {
      "cell_type": "code",
      "source": [
        "#df['Nuclear'] = pd.to_numeric(df['Nuclear'], errors='coerce')"
      ],
      "metadata": {
        "id": "tu9Vb72v37eR"
      },
      "execution_count": 66,
      "outputs": []
    },
    {
      "cell_type": "code",
      "source": [
        "df['Large Hydro'] = pd.to_numeric(df['Large Hydro'], errors='coerce')"
      ],
      "metadata": {
        "id": "669HF6Dx39jy"
      },
      "execution_count": 127,
      "outputs": []
    },
    {
      "cell_type": "code",
      "source": [
        "#df['Generation'] = pd.to_numeric(df['Generation'], errors='coerce')"
      ],
      "metadata": {
        "id": "Xn4uiclm39nN"
      },
      "execution_count": 70,
      "outputs": []
    },
    {
      "cell_type": "code",
      "source": [
        "df['Thermal'] = pd.to_numeric(df['Thermal'], errors='coerce')"
      ],
      "metadata": {
        "id": "Oz3wz8LK4Mri"
      },
      "execution_count": 128,
      "outputs": []
    },
    {
      "cell_type": "code",
      "source": [
        "#df['Load Less (Generation+Imports)'] = pd.to_numeric(df['Load Less (Generation+Imports)'], errors='coerce')"
      ],
      "metadata": {
        "id": "6MjuBFan4M3e"
      },
      "execution_count": 72,
      "outputs": []
    },
    {
      "cell_type": "code",
      "source": [
        "#df['Imports'] = pd.to_numeric(df['Imports'], errors='coerce')"
      ],
      "metadata": {
        "id": "lWuiR0uJ1lCG"
      },
      "execution_count": 119,
      "outputs": []
    },
    {
      "cell_type": "code",
      "source": [
        "#df['Solar'] = df['Solar'].astype(float).round(2)\n"
      ],
      "metadata": {
        "id": "K3IhnwnDy-SW"
      },
      "execution_count": 76,
      "outputs": []
    },
    {
      "cell_type": "code",
      "source": [
        "df.shape"
      ],
      "metadata": {
        "colab": {
          "base_uri": "https://localhost:8080/"
        },
        "id": "_kHXXkyaBFy9",
        "outputId": "f8f0483c-ecab-4aeb-d266-0106d304e170"
      },
      "execution_count": 103,
      "outputs": [
        {
          "output_type": "execute_result",
          "data": {
            "text/plain": [
              "(324576, 14)"
            ]
          },
          "metadata": {},
          "execution_count": 103
        }
      ]
    },
    {
      "cell_type": "code",
      "source": [
        "df.info()"
      ],
      "metadata": {
        "colab": {
          "base_uri": "https://localhost:8080/"
        },
        "id": "CiiwrV4mCCuS",
        "outputId": "ccfef65d-19f6-4a34-b868-47b34371ba76"
      },
      "execution_count": 129,
      "outputs": [
        {
          "output_type": "stream",
          "name": "stdout",
          "text": [
            "<class 'pandas.core.frame.DataFrame'>\n",
            "RangeIndex: 324576 entries, 0 to 324575\n",
            "Data columns (total 14 columns):\n",
            " #   Column                          Non-Null Count   Dtype  \n",
            "---  ------                          --------------   -----  \n",
            " 0   Date                            105120 non-null  object \n",
            " 1   Hour                            105120 non-null  float64\n",
            " 2   Interval                        105120 non-null  float64\n",
            " 3   Load                            105120 non-null  float64\n",
            " 4   Solar                           105120 non-null  float64\n",
            " 5   Wind                            105120 non-null  float64\n",
            " 6   Net Load                        105120 non-null  float64\n",
            " 7   Renewables                      105071 non-null  float64\n",
            " 8   Nuclear                         105120 non-null  float64\n",
            " 9   Large Hydro                     0 non-null       float64\n",
            " 10  Imports                         105120 non-null  float64\n",
            " 11  Generation                      105120 non-null  float64\n",
            " 12  Thermal                         105071 non-null  float64\n",
            " 13  Load Less (Generation+Imports)  105120 non-null  float64\n",
            "dtypes: float64(13), object(1)\n",
            "memory usage: 34.7+ MB\n"
          ]
        }
      ]
    },
    {
      "cell_type": "code",
      "source": [
        "df.describe()"
      ],
      "metadata": {
        "colab": {
          "base_uri": "https://localhost:8080/",
          "height": 344
        },
        "id": "fMdtw4EN1jgZ",
        "outputId": "5a1a0690-29b1-4b68-c1b7-2ef8f84e9f7a"
      },
      "execution_count": 130,
      "outputs": [
        {
          "output_type": "execute_result",
          "data": {
            "text/plain": [
              "                Hour       Interval           Load          Solar  \\\n",
              "count  105120.000000  105120.000000  105120.000000  105120.000000   \n",
              "mean       12.499886       6.500000   25806.873479    3171.135837   \n",
              "std         6.922384       3.452069    4927.633413    3884.071107   \n",
              "min         1.000000       1.000000   17981.550000       0.000000   \n",
              "25%         6.750000       3.750000   22229.665000       0.000000   \n",
              "50%        12.500000       6.500000   24989.715000      63.295000   \n",
              "75%        18.250000       9.250000   27730.042500    7191.465000   \n",
              "max        24.000000      12.000000   46396.990000   10735.880000   \n",
              "\n",
              "                Wind       Net Load     Renewables        Nuclear  \\\n",
              "count  105120.000000  105120.000000  105071.000000  105120.000000   \n",
              "mean     1888.611721   20747.125917    6915.051524    2089.185206   \n",
              "std      1253.561968    5351.536247    3887.367594     389.129005   \n",
              "min         0.000000    6967.970000    1665.470000     459.830000   \n",
              "25%       700.142500   17225.120000    3715.590000    2221.647500   \n",
              "50%      1767.440000   20316.775000    5581.690000    2259.080000   \n",
              "75%      2921.722500   24063.145000   10581.495000    2272.600000   \n",
              "max      5166.750000   41277.560000   17082.630000    2288.390000   \n",
              "\n",
              "       Large Hydro        Imports     Generation        Thermal  \\\n",
              "count          0.0  105120.000000  105120.000000  105071.000000   \n",
              "mean           NaN    7015.301168   18791.532846    7349.527703   \n",
              "std            NaN    2244.479495    5054.275192    3717.767212   \n",
              "min            NaN    -887.070000    9008.870000     500.560000   \n",
              "25%            NaN    5508.670000   15182.812500    4698.455000   \n",
              "50%            NaN    7339.240000   17998.610000    6965.780000   \n",
              "75%            NaN    8704.190000   21118.922500    9370.915000   \n",
              "max            NaN   12094.620000   43160.270000   25072.150000   \n",
              "\n",
              "       Load Less (Generation+Imports)  \n",
              "count                   105120.000000  \n",
              "mean                         0.039464  \n",
              "std                         14.751431  \n",
              "min                       -962.490000  \n",
              "25%                         -2.460000  \n",
              "50%                          0.000000  \n",
              "75%                          2.410000  \n",
              "max                       2588.520000  "
            ],
            "text/html": [
              "\n",
              "  <div id=\"df-021217ee-108f-4520-977e-57099184bab3\">\n",
              "    <div class=\"colab-df-container\">\n",
              "      <div>\n",
              "<style scoped>\n",
              "    .dataframe tbody tr th:only-of-type {\n",
              "        vertical-align: middle;\n",
              "    }\n",
              "\n",
              "    .dataframe tbody tr th {\n",
              "        vertical-align: top;\n",
              "    }\n",
              "\n",
              "    .dataframe thead th {\n",
              "        text-align: right;\n",
              "    }\n",
              "</style>\n",
              "<table border=\"1\" class=\"dataframe\">\n",
              "  <thead>\n",
              "    <tr style=\"text-align: right;\">\n",
              "      <th></th>\n",
              "      <th>Hour</th>\n",
              "      <th>Interval</th>\n",
              "      <th>Load</th>\n",
              "      <th>Solar</th>\n",
              "      <th>Wind</th>\n",
              "      <th>Net Load</th>\n",
              "      <th>Renewables</th>\n",
              "      <th>Nuclear</th>\n",
              "      <th>Large Hydro</th>\n",
              "      <th>Imports</th>\n",
              "      <th>Generation</th>\n",
              "      <th>Thermal</th>\n",
              "      <th>Load Less (Generation+Imports)</th>\n",
              "    </tr>\n",
              "  </thead>\n",
              "  <tbody>\n",
              "    <tr>\n",
              "      <th>count</th>\n",
              "      <td>105120.000000</td>\n",
              "      <td>105120.000000</td>\n",
              "      <td>105120.000000</td>\n",
              "      <td>105120.000000</td>\n",
              "      <td>105120.000000</td>\n",
              "      <td>105120.000000</td>\n",
              "      <td>105071.000000</td>\n",
              "      <td>105120.000000</td>\n",
              "      <td>0.0</td>\n",
              "      <td>105120.000000</td>\n",
              "      <td>105120.000000</td>\n",
              "      <td>105071.000000</td>\n",
              "      <td>105120.000000</td>\n",
              "    </tr>\n",
              "    <tr>\n",
              "      <th>mean</th>\n",
              "      <td>12.499886</td>\n",
              "      <td>6.500000</td>\n",
              "      <td>25806.873479</td>\n",
              "      <td>3171.135837</td>\n",
              "      <td>1888.611721</td>\n",
              "      <td>20747.125917</td>\n",
              "      <td>6915.051524</td>\n",
              "      <td>2089.185206</td>\n",
              "      <td>NaN</td>\n",
              "      <td>7015.301168</td>\n",
              "      <td>18791.532846</td>\n",
              "      <td>7349.527703</td>\n",
              "      <td>0.039464</td>\n",
              "    </tr>\n",
              "    <tr>\n",
              "      <th>std</th>\n",
              "      <td>6.922384</td>\n",
              "      <td>3.452069</td>\n",
              "      <td>4927.633413</td>\n",
              "      <td>3884.071107</td>\n",
              "      <td>1253.561968</td>\n",
              "      <td>5351.536247</td>\n",
              "      <td>3887.367594</td>\n",
              "      <td>389.129005</td>\n",
              "      <td>NaN</td>\n",
              "      <td>2244.479495</td>\n",
              "      <td>5054.275192</td>\n",
              "      <td>3717.767212</td>\n",
              "      <td>14.751431</td>\n",
              "    </tr>\n",
              "    <tr>\n",
              "      <th>min</th>\n",
              "      <td>1.000000</td>\n",
              "      <td>1.000000</td>\n",
              "      <td>17981.550000</td>\n",
              "      <td>0.000000</td>\n",
              "      <td>0.000000</td>\n",
              "      <td>6967.970000</td>\n",
              "      <td>1665.470000</td>\n",
              "      <td>459.830000</td>\n",
              "      <td>NaN</td>\n",
              "      <td>-887.070000</td>\n",
              "      <td>9008.870000</td>\n",
              "      <td>500.560000</td>\n",
              "      <td>-962.490000</td>\n",
              "    </tr>\n",
              "    <tr>\n",
              "      <th>25%</th>\n",
              "      <td>6.750000</td>\n",
              "      <td>3.750000</td>\n",
              "      <td>22229.665000</td>\n",
              "      <td>0.000000</td>\n",
              "      <td>700.142500</td>\n",
              "      <td>17225.120000</td>\n",
              "      <td>3715.590000</td>\n",
              "      <td>2221.647500</td>\n",
              "      <td>NaN</td>\n",
              "      <td>5508.670000</td>\n",
              "      <td>15182.812500</td>\n",
              "      <td>4698.455000</td>\n",
              "      <td>-2.460000</td>\n",
              "    </tr>\n",
              "    <tr>\n",
              "      <th>50%</th>\n",
              "      <td>12.500000</td>\n",
              "      <td>6.500000</td>\n",
              "      <td>24989.715000</td>\n",
              "      <td>63.295000</td>\n",
              "      <td>1767.440000</td>\n",
              "      <td>20316.775000</td>\n",
              "      <td>5581.690000</td>\n",
              "      <td>2259.080000</td>\n",
              "      <td>NaN</td>\n",
              "      <td>7339.240000</td>\n",
              "      <td>17998.610000</td>\n",
              "      <td>6965.780000</td>\n",
              "      <td>0.000000</td>\n",
              "    </tr>\n",
              "    <tr>\n",
              "      <th>75%</th>\n",
              "      <td>18.250000</td>\n",
              "      <td>9.250000</td>\n",
              "      <td>27730.042500</td>\n",
              "      <td>7191.465000</td>\n",
              "      <td>2921.722500</td>\n",
              "      <td>24063.145000</td>\n",
              "      <td>10581.495000</td>\n",
              "      <td>2272.600000</td>\n",
              "      <td>NaN</td>\n",
              "      <td>8704.190000</td>\n",
              "      <td>21118.922500</td>\n",
              "      <td>9370.915000</td>\n",
              "      <td>2.410000</td>\n",
              "    </tr>\n",
              "    <tr>\n",
              "      <th>max</th>\n",
              "      <td>24.000000</td>\n",
              "      <td>12.000000</td>\n",
              "      <td>46396.990000</td>\n",
              "      <td>10735.880000</td>\n",
              "      <td>5166.750000</td>\n",
              "      <td>41277.560000</td>\n",
              "      <td>17082.630000</td>\n",
              "      <td>2288.390000</td>\n",
              "      <td>NaN</td>\n",
              "      <td>12094.620000</td>\n",
              "      <td>43160.270000</td>\n",
              "      <td>25072.150000</td>\n",
              "      <td>2588.520000</td>\n",
              "    </tr>\n",
              "  </tbody>\n",
              "</table>\n",
              "</div>\n",
              "      <button class=\"colab-df-convert\" onclick=\"convertToInteractive('df-021217ee-108f-4520-977e-57099184bab3')\"\n",
              "              title=\"Convert this dataframe to an interactive table.\"\n",
              "              style=\"display:none;\">\n",
              "        \n",
              "  <svg xmlns=\"http://www.w3.org/2000/svg\" height=\"24px\"viewBox=\"0 0 24 24\"\n",
              "       width=\"24px\">\n",
              "    <path d=\"M0 0h24v24H0V0z\" fill=\"none\"/>\n",
              "    <path d=\"M18.56 5.44l.94 2.06.94-2.06 2.06-.94-2.06-.94-.94-2.06-.94 2.06-2.06.94zm-11 1L8.5 8.5l.94-2.06 2.06-.94-2.06-.94L8.5 2.5l-.94 2.06-2.06.94zm10 10l.94 2.06.94-2.06 2.06-.94-2.06-.94-.94-2.06-.94 2.06-2.06.94z\"/><path d=\"M17.41 7.96l-1.37-1.37c-.4-.4-.92-.59-1.43-.59-.52 0-1.04.2-1.43.59L10.3 9.45l-7.72 7.72c-.78.78-.78 2.05 0 2.83L4 21.41c.39.39.9.59 1.41.59.51 0 1.02-.2 1.41-.59l7.78-7.78 2.81-2.81c.8-.78.8-2.07 0-2.86zM5.41 20L4 18.59l7.72-7.72 1.47 1.35L5.41 20z\"/>\n",
              "  </svg>\n",
              "      </button>\n",
              "      \n",
              "  <style>\n",
              "    .colab-df-container {\n",
              "      display:flex;\n",
              "      flex-wrap:wrap;\n",
              "      gap: 12px;\n",
              "    }\n",
              "\n",
              "    .colab-df-convert {\n",
              "      background-color: #E8F0FE;\n",
              "      border: none;\n",
              "      border-radius: 50%;\n",
              "      cursor: pointer;\n",
              "      display: none;\n",
              "      fill: #1967D2;\n",
              "      height: 32px;\n",
              "      padding: 0 0 0 0;\n",
              "      width: 32px;\n",
              "    }\n",
              "\n",
              "    .colab-df-convert:hover {\n",
              "      background-color: #E2EBFA;\n",
              "      box-shadow: 0px 1px 2px rgba(60, 64, 67, 0.3), 0px 1px 3px 1px rgba(60, 64, 67, 0.15);\n",
              "      fill: #174EA6;\n",
              "    }\n",
              "\n",
              "    [theme=dark] .colab-df-convert {\n",
              "      background-color: #3B4455;\n",
              "      fill: #D2E3FC;\n",
              "    }\n",
              "\n",
              "    [theme=dark] .colab-df-convert:hover {\n",
              "      background-color: #434B5C;\n",
              "      box-shadow: 0px 1px 3px 1px rgba(0, 0, 0, 0.15);\n",
              "      filter: drop-shadow(0px 1px 2px rgba(0, 0, 0, 0.3));\n",
              "      fill: #FFFFFF;\n",
              "    }\n",
              "  </style>\n",
              "\n",
              "      <script>\n",
              "        const buttonEl =\n",
              "          document.querySelector('#df-021217ee-108f-4520-977e-57099184bab3 button.colab-df-convert');\n",
              "        buttonEl.style.display =\n",
              "          google.colab.kernel.accessAllowed ? 'block' : 'none';\n",
              "\n",
              "        async function convertToInteractive(key) {\n",
              "          const element = document.querySelector('#df-021217ee-108f-4520-977e-57099184bab3');\n",
              "          const dataTable =\n",
              "            await google.colab.kernel.invokeFunction('convertToInteractive',\n",
              "                                                     [key], {});\n",
              "          if (!dataTable) return;\n",
              "\n",
              "          const docLinkHtml = 'Like what you see? Visit the ' +\n",
              "            '<a target=\"_blank\" href=https://colab.research.google.com/notebooks/data_table.ipynb>data table notebook</a>'\n",
              "            + ' to learn more about interactive tables.';\n",
              "          element.innerHTML = '';\n",
              "          dataTable['output_type'] = 'display_data';\n",
              "          await google.colab.output.renderOutput(dataTable, element);\n",
              "          const docLink = document.createElement('div');\n",
              "          docLink.innerHTML = docLinkHtml;\n",
              "          element.appendChild(docLink);\n",
              "        }\n",
              "      </script>\n",
              "    </div>\n",
              "  </div>\n",
              "  "
            ]
          },
          "metadata": {},
          "execution_count": 130
        }
      ]
    }
  ]
}